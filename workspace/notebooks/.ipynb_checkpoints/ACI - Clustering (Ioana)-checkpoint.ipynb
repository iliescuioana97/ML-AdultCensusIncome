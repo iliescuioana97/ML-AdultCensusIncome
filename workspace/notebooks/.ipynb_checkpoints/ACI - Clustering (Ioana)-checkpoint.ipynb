{
 "cells": [
  {
   "cell_type": "code",
   "execution_count": 72,
   "metadata": {},
   "outputs": [],
   "source": [
    "import pandas as pd\n",
    "import seaborn as sbn\n",
    "import numpy as np\n",
    "import matplotlib.pyplot as plt\n"
   ]
  },
  {
   "cell_type": "code",
   "execution_count": 135,
   "metadata": {},
   "outputs": [],
   "source": [
    "data = pd.read_csv('../data/adult.csv')\n",
    "# data.head(3)\n",
    "# data.describe(include = ['O'])"
   ]
  },
  {
   "cell_type": "code",
   "execution_count": null,
   "metadata": {},
   "outputs": [],
   "source": [
    "# Data load\n",
    "data = pd.read_csv('../data/adult.csv')\n",
    "\n",
    "# Data sanitisation\n",
    "data = data.replace('?', 'NA')\n",
    "\n",
    "data = data.replace(['Married-civ-spouse', 'Married-spouse-absent', 'Married-AF-spouse'], 'Married')\n",
    "data = data.replace(['Wife', 'Husband'], 'Married')\n",
    "\n",
    "data = data.replace('<=50K', 0)\n",
    "data = data.replace('>50K', 1)\n",
    "labels = data['income']\n",
    "data = data.drop(columns='income')\n",
    "\n",
    "data.loc[data['native.country'] != 'United-States', 'native.country'] = 'Outside-United-States' \n",
    "# print(data['native.country'].value_counts())\n",
    "\n",
    "data = data.drop(columns = ['capital.gain', 'education']) #exista coloana education.num redundanta\n",
    "data.head(30)"
   ]
  },
  {
   "cell_type": "code",
   "execution_count": null,
   "metadata": {},
   "outputs": [],
   "source": []
  },
  {
   "cell_type": "code",
   "execution_count": null,
   "metadata": {},
   "outputs": [],
   "source": [
    "# DATA PREPROCESSING\n",
    "\n",
    "# 1. ONE HOT ENCODINGS FOR NOMINAL VALUES - WIP\n",
    "from sklearn.preprocessing import LabelEncoder\n",
    "from sklearn.preprocessing import OneHotEncoder\n",
    "\n",
    "for col in ['marital.status', 'workclass', 'relationship', 'occupation', 'race', 'sex', 'native.country']:\n",
    "    one_hot = pd.get_dummies(data[col])\n",
    "    data = data.drop(col,axis = 1)\n",
    "    \n",
    "    if 'NA' in one_hot:\n",
    "        one_hot = one_hot.drop(columns = 'NA')\n",
    "        \n",
    "    if 'Married' in one_hot and 'Married' in data:\n",
    "        one_hot = one_hot.drop(columns = 'Married')\n",
    "        \n",
    "    data = data.join(one_hot)\n",
    "data\n"
   ]
  },
  {
   "cell_type": "code",
   "execution_count": null,
   "metadata": {},
   "outputs": [],
   "source": [
    "# 2. MIN-MAX SCALER FOR NUMERICAL VALUES COLUMNS\n",
    "from sklearn.preprocessing import MinMaxScaler\n",
    "from sklearn.pipeline import Pipeline\n",
    "from sklearn.compose import ColumnTransformer\n",
    "from sklearn.preprocessing import minmax_scale\n",
    "\n",
    "\n",
    "data[['fnlwgt','capital.loss', 'age', 'education.num', 'hours.per.week']] = \\\n",
    "    minmax_scale(data[['fnlwgt','capital.loss', 'age', 'education.num', 'hours.per.week']])\n",
    "data\n"
   ]
  },
  {
   "cell_type": "code",
   "execution_count": null,
   "metadata": {},
   "outputs": [],
   "source": [
    "# for col in data:\n",
    "#     continue\n",
    "#     print(col.upper())\n",
    "#     print(data[col].unique())\n",
    "#     print()"
   ]
  },
  {
   "cell_type": "code",
   "execution_count": null,
   "metadata": {},
   "outputs": [],
   "source": [
    "# CLUSTERING\n",
    "from sklearn.cluster import AgglomerativeClustering\n",
    "# train_data, test_data, train_labels, test_labels = train_test_split(data, labels, stratify=labels, shuffle=True, test_size=0.33)\n",
    "\n",
    "clustering = AgglomerativeClustering().fit(data)\n",
    "clustering\n",
    "AgglomerativeClustering()\n",
    "print(clustering.labels_)"
   ]
  },
  {
   "cell_type": "code",
   "execution_count": null,
   "metadata": {},
   "outputs": [],
   "source": []
  },
  {
   "cell_type": "code",
   "execution_count": null,
   "metadata": {},
   "outputs": [],
   "source": []
  }
 ],
 "metadata": {
  "kernelspec": {
   "display_name": "Python 3",
   "language": "python",
   "name": "python3"
  },
  "language_info": {
   "codemirror_mode": {
    "name": "ipython",
    "version": 3
   },
   "file_extension": ".py",
   "mimetype": "text/x-python",
   "name": "python",
   "nbconvert_exporter": "python",
   "pygments_lexer": "ipython3",
   "version": "3.7.4"
  }
 },
 "nbformat": 4,
 "nbformat_minor": 4
}
